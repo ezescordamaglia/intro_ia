{
 "cells": [
  {
   "cell_type": "markdown",
   "id": "27719223",
   "metadata": {},
   "source": [
    "\n",
    "# Trabajo Práctico 2"
   ]
  },
  {
   "cell_type": "markdown",
   "id": "461d011d",
   "metadata": {},
   "source": [
    "Dentro de la carpeta de `data/` vamos a poder encontrar 3 datasets:\n",
    "\n",
    "- Pokemon (Problema de clasificacion Binaria): La intención es tratar de predecir si basada en la información que tenemos podemos estimar si la carta que estamos viendo es Legendaria o no (Booleano).\n",
    "- Heart Disease (Problema de clasificacion Binaria): A partir de este dataset vamos a tratar de determinar si una persona basado en ciertos datos tiene asociado una enfermedad cardiaca.\n",
    "- Challenger USA Space Shuttle O-Ring Data Set (Regresion multivariada): En este dataset encontramos información sobre varios despegues del space shuttle, la intención de este problema es tratar de predecir cuanto será la cantidad de O-Rings que fallan dadas las condiciones de despegue.\n",
    "\n",
    "> Para la presentación de sus trabajos prácticos **Elijan 1 de los 3 datasets**"
   ]
  },
  {
   "cell_type": "markdown",
   "id": "5a976dd3",
   "metadata": {},
   "source": [
    "# Importar librerías\n",
    "\n",
    "Importar aquellas librerías que serán utilizadas en el trabajo."
   ]
  },
  {
   "cell_type": "code",
   "execution_count": 95,
   "id": "845b6c50",
   "metadata": {},
   "outputs": [],
   "source": [
    "import pandas as pd\n",
    "import numpy as np\n",
    "import matplotlib.pyplot as plt\n",
    "import seaborn as sns\n",
    "from sklearn.metrics import mean_squared_error\n",
    "from sklearn.datasets import make_regression\n",
    "from sklearn.model_selection import train_test_split\n",
    "from sklearn.preprocessing import StandardScaler\n",
    "from sklearn.decomposition import PCA\n",
    "from sklearn.cluster import KMeans\n",
    "from sklearn.linear_model import LinearRegression\n",
    "from sklearn.linear_model import ElasticNet, ElasticNetCV, LogisticRegression, LogisticRegressionCV, SGDClassifier, SGDRegressor\n",
    "from sklearn import metrics\n",
    "from sklearn.metrics import accuracy_score, precision_score, recall_score, classification_report, confusion_matrix\n",
    "from sklearn.metrics import classification_report\n",
    "from sklearn.metrics import precision_recall_curve\n",
    "from sklearn.metrics import roc_curve"
   ]
  },
  {
   "cell_type": "markdown",
   "id": "954111ce",
   "metadata": {},
   "source": [
    "# Cargar datos\n",
    "\n",
    "Cargar los datos de entrenamiento.\n",
    "\n",
    "Recordemos que para todos los datasets tenemos el archivo `columns.csv` que contiene el nombre y descripción de cada columna en el mismo orden que van a encontrar los datos.\n",
    "\n",
    "En los casos de datos con extensión  `*.data` vamos a tener que leerlo utilizando `pd.read_data('myfile.data', sep = ',', header = 0, names = my_cols)`\n",
    "\n",
    "De esta manera si quisieramos cargar datos por ejemplo de Nasa deberiamos poner algo asi\n",
    "\n",
    "\n",
    "```python\n",
    "## Importing python earlier\n",
    "\n",
    "my_cols = pd.read_csv('./data/nasa_orings/columns.csv').column.values.tolist()\n",
    "\n",
    "my_data = pd.read_csv('./data/nasa_orings/o-ring-erosion-or-blowby.data',\n",
    "                       delimiter=',',\n",
    "                       header=0,\n",
    "                       names = my_cols\n",
    "                    )\n",
    "```"
   ]
  },
  {
   "cell_type": "code",
   "execution_count": 96,
   "id": "26f41c45",
   "metadata": {},
   "outputs": [
    {
     "data": {
      "text/html": [
       "<div>\n",
       "<style scoped>\n",
       "    .dataframe tbody tr th:only-of-type {\n",
       "        vertical-align: middle;\n",
       "    }\n",
       "\n",
       "    .dataframe tbody tr th {\n",
       "        vertical-align: top;\n",
       "    }\n",
       "\n",
       "    .dataframe thead th {\n",
       "        text-align: right;\n",
       "    }\n",
       "</style>\n",
       "<table border=\"1\" class=\"dataframe\">\n",
       "  <thead>\n",
       "    <tr style=\"text-align: right;\">\n",
       "      <th></th>\n",
       "      <th>age</th>\n",
       "      <th>sex</th>\n",
       "      <th>cp</th>\n",
       "      <th>trestbps</th>\n",
       "      <th>chol</th>\n",
       "      <th>fbs</th>\n",
       "      <th>restecg</th>\n",
       "      <th>thalach</th>\n",
       "      <th>exang</th>\n",
       "      <th>oldpeak</th>\n",
       "      <th>slope</th>\n",
       "      <th>ca</th>\n",
       "      <th>thal</th>\n",
       "      <th>target</th>\n",
       "    </tr>\n",
       "  </thead>\n",
       "  <tbody>\n",
       "    <tr>\n",
       "      <th>0</th>\n",
       "      <td>63</td>\n",
       "      <td>1</td>\n",
       "      <td>3</td>\n",
       "      <td>145</td>\n",
       "      <td>233</td>\n",
       "      <td>1</td>\n",
       "      <td>0</td>\n",
       "      <td>150</td>\n",
       "      <td>0</td>\n",
       "      <td>2.3</td>\n",
       "      <td>0</td>\n",
       "      <td>0</td>\n",
       "      <td>1</td>\n",
       "      <td>1</td>\n",
       "    </tr>\n",
       "    <tr>\n",
       "      <th>1</th>\n",
       "      <td>37</td>\n",
       "      <td>1</td>\n",
       "      <td>2</td>\n",
       "      <td>130</td>\n",
       "      <td>250</td>\n",
       "      <td>0</td>\n",
       "      <td>1</td>\n",
       "      <td>187</td>\n",
       "      <td>0</td>\n",
       "      <td>3.5</td>\n",
       "      <td>0</td>\n",
       "      <td>0</td>\n",
       "      <td>2</td>\n",
       "      <td>1</td>\n",
       "    </tr>\n",
       "    <tr>\n",
       "      <th>2</th>\n",
       "      <td>41</td>\n",
       "      <td>0</td>\n",
       "      <td>1</td>\n",
       "      <td>130</td>\n",
       "      <td>204</td>\n",
       "      <td>0</td>\n",
       "      <td>0</td>\n",
       "      <td>172</td>\n",
       "      <td>0</td>\n",
       "      <td>1.4</td>\n",
       "      <td>2</td>\n",
       "      <td>0</td>\n",
       "      <td>2</td>\n",
       "      <td>1</td>\n",
       "    </tr>\n",
       "    <tr>\n",
       "      <th>3</th>\n",
       "      <td>56</td>\n",
       "      <td>1</td>\n",
       "      <td>1</td>\n",
       "      <td>120</td>\n",
       "      <td>236</td>\n",
       "      <td>0</td>\n",
       "      <td>1</td>\n",
       "      <td>178</td>\n",
       "      <td>0</td>\n",
       "      <td>0.8</td>\n",
       "      <td>2</td>\n",
       "      <td>0</td>\n",
       "      <td>2</td>\n",
       "      <td>1</td>\n",
       "    </tr>\n",
       "    <tr>\n",
       "      <th>4</th>\n",
       "      <td>57</td>\n",
       "      <td>0</td>\n",
       "      <td>0</td>\n",
       "      <td>120</td>\n",
       "      <td>354</td>\n",
       "      <td>0</td>\n",
       "      <td>1</td>\n",
       "      <td>163</td>\n",
       "      <td>1</td>\n",
       "      <td>0.6</td>\n",
       "      <td>2</td>\n",
       "      <td>0</td>\n",
       "      <td>2</td>\n",
       "      <td>1</td>\n",
       "    </tr>\n",
       "  </tbody>\n",
       "</table>\n",
       "</div>"
      ],
      "text/plain": [
       "   age  sex  cp  trestbps  chol  fbs  restecg  thalach  exang  oldpeak  slope  \\\n",
       "0   63    1   3       145   233    1        0      150      0      2.3      0   \n",
       "1   37    1   2       130   250    0        1      187      0      3.5      0   \n",
       "2   41    0   1       130   204    0        0      172      0      1.4      2   \n",
       "3   56    1   1       120   236    0        1      178      0      0.8      2   \n",
       "4   57    0   0       120   354    0        1      163      1      0.6      2   \n",
       "\n",
       "   ca  thal  target  \n",
       "0   0     1       1  \n",
       "1   0     2       1  \n",
       "2   0     2       1  \n",
       "3   0     2       1  \n",
       "4   0     2       1  "
      ]
     },
     "execution_count": 96,
     "metadata": {},
     "output_type": "execute_result"
    }
   ],
   "source": [
    "#No pude usar esta forma porque me daba este error:\n",
    "   #ParserError: Error tokenizing data. C error: Expected 2 fields in line 4, saw 6\n",
    "\n",
    "# my_cols = pd.read_csv('../data/heart_disease/columns.csv').column.values.tolist()\n",
    "\n",
    "# my_data = pd.read_csv('../data/heart_disease/processed.cleveland.data',\n",
    "#                        delimiter=',',\n",
    "#                        header=0,\n",
    "#                        names = my_cols\n",
    "#                     )\n",
    "\n",
    "#Bajé el dataset nuevamente en formato .csv de un solo archivo para trabajarlo.\n",
    "my_data = pd.read_csv('../data/heart_disease/dataset.csv')\n",
    "\n",
    "my_data.head()"
   ]
  },
  {
   "cell_type": "markdown",
   "id": "c93000bd",
   "metadata": {},
   "source": [
    "# Análisis exploratorio básico y preprocesamiento de los datos\n",
    "\n",
    "Análisis de los datos para conocer los mismos, ver datos faltantes, decidir cómo tratarlos, ver distribuciones, relaciones, etc. Procesar los datos centrándolos, reescalando, codificando, reduciendo dimensiones, etc. según considere necesario.\n",
    "\n",
    "Vamos a considerar:\n",
    "\n",
    "- Para escalar datos: `sklearn.preprocessing.StandardScaler()`\n",
    "- Para completar valores nulos: `sklearn.impute.SimpleImputer()` [Quickguide](https://scikit-learn.org/stable/modules/impute.html)\n",
    "- Para reduccion de dimensiones (sobre todo para visualizar los datos): PCA o [T-SNE](https://builtin.com/data-science/tsne-python) (Solo para visualización)\n",
    "- Para codificar variables categóricas: `sklearn.preprocessing.OneHotEncoder()`"
   ]
  },
  {
   "attachments": {},
   "cell_type": "markdown",
   "id": "b4ea44f3",
   "metadata": {},
   "source": [
    "# Preprocessing"
   ]
  },
  {
   "attachments": {},
   "cell_type": "markdown",
   "id": "05d27f3b",
   "metadata": {},
   "source": [
    "## Missing"
   ]
  },
  {
   "cell_type": "code",
   "execution_count": 97,
   "id": "134e32a3",
   "metadata": {},
   "outputs": [
    {
     "data": {
      "text/plain": [
       "age         0\n",
       "sex         0\n",
       "cp          0\n",
       "trestbps    0\n",
       "chol        0\n",
       "fbs         0\n",
       "restecg     0\n",
       "thalach     0\n",
       "exang       0\n",
       "oldpeak     0\n",
       "slope       0\n",
       "ca          0\n",
       "thal        0\n",
       "target      0\n",
       "dtype: int64"
      ]
     },
     "execution_count": 97,
     "metadata": {},
     "output_type": "execute_result"
    }
   ],
   "source": [
    "my_data.isna().sum()\n",
    "\n",
    "#No hay valores faltantes en el dataset"
   ]
  },
  {
   "attachments": {},
   "cell_type": "markdown",
   "id": "684a2cdc",
   "metadata": {},
   "source": [
    "# One hot encoding"
   ]
  },
  {
   "cell_type": "code",
   "execution_count": null,
   "id": "b66211cd",
   "metadata": {},
   "outputs": [],
   "source": [
    "#my_data.describe(include='O')\n",
    "\n",
    "#No hay variables categóricas en el dataset\n"
   ]
  },
  {
   "attachments": {},
   "cell_type": "markdown",
   "id": "884e0f7e",
   "metadata": {},
   "source": [
    "## Standardize"
   ]
  },
  {
   "cell_type": "code",
   "execution_count": 99,
   "id": "dd193673",
   "metadata": {},
   "outputs": [],
   "source": [
    "x = my_data[[col for col in my_data.columns if col != 'target']]\n",
    "y = my_data['target']"
   ]
  },
  {
   "attachments": {},
   "cell_type": "markdown",
   "id": "b41f1c3b",
   "metadata": {},
   "source": [
    "### Train test split"
   ]
  },
  {
   "cell_type": "code",
   "execution_count": 100,
   "id": "bb444f51",
   "metadata": {},
   "outputs": [],
   "source": [
    "xtrain,xtest,ytrain,ytest = train_test_split(x,\n",
    "                                             y,\n",
    "                                             test_size=0.25,\n",
    "                                             random_state=12,\n",
    "                                             )"
   ]
  },
  {
   "cell_type": "code",
   "execution_count": 101,
   "id": "5cf7b1c0",
   "metadata": {},
   "outputs": [],
   "source": [
    "std = StandardScaler()"
   ]
  },
  {
   "cell_type": "code",
   "execution_count": 102,
   "id": "4649c4ba",
   "metadata": {},
   "outputs": [
    {
     "name": "stdout",
     "output_type": "stream",
     "text": [
      "['age', 'sex', 'cp', 'trestbps', 'chol', 'fbs', 'restecg', 'thalach', 'exang', 'oldpeak', 'slope', 'ca', 'thal']\n"
     ]
    }
   ],
   "source": [
    "columnas = [col for col in my_data.columns if ((col != 'target'))]\n",
    "print(columnas)\n",
    "\n",
    "xtrain[columnas] = std.fit_transform(xtrain[columnas])\n",
    "xtest[columnas] = std.transform(xtest[columnas])"
   ]
  },
  {
   "cell_type": "code",
   "execution_count": 103,
   "id": "43b18a58",
   "metadata": {},
   "outputs": [
    {
     "data": {
      "text/html": [
       "<div>\n",
       "<style scoped>\n",
       "    .dataframe tbody tr th:only-of-type {\n",
       "        vertical-align: middle;\n",
       "    }\n",
       "\n",
       "    .dataframe tbody tr th {\n",
       "        vertical-align: top;\n",
       "    }\n",
       "\n",
       "    .dataframe thead th {\n",
       "        text-align: right;\n",
       "    }\n",
       "</style>\n",
       "<table border=\"1\" class=\"dataframe\">\n",
       "  <thead>\n",
       "    <tr style=\"text-align: right;\">\n",
       "      <th></th>\n",
       "      <th>age</th>\n",
       "      <th>sex</th>\n",
       "      <th>cp</th>\n",
       "      <th>trestbps</th>\n",
       "      <th>chol</th>\n",
       "      <th>fbs</th>\n",
       "      <th>restecg</th>\n",
       "      <th>thalach</th>\n",
       "      <th>exang</th>\n",
       "      <th>oldpeak</th>\n",
       "      <th>slope</th>\n",
       "      <th>ca</th>\n",
       "      <th>thal</th>\n",
       "    </tr>\n",
       "  </thead>\n",
       "  <tbody>\n",
       "    <tr>\n",
       "      <th>255</th>\n",
       "      <td>-0.977717</td>\n",
       "      <td>0.695457</td>\n",
       "      <td>-0.934460</td>\n",
       "      <td>0.577754</td>\n",
       "      <td>1.246429</td>\n",
       "      <td>-0.405096</td>\n",
       "      <td>-1.035714</td>\n",
       "      <td>-0.149019</td>\n",
       "      <td>1.545335</td>\n",
       "      <td>-0.841074</td>\n",
       "      <td>-0.735455</td>\n",
       "      <td>2.296375</td>\n",
       "      <td>1.150335</td>\n",
       "    </tr>\n",
       "    <tr>\n",
       "      <th>250</th>\n",
       "      <td>-0.322055</td>\n",
       "      <td>0.695457</td>\n",
       "      <td>-0.934460</td>\n",
       "      <td>0.466609</td>\n",
       "      <td>1.025805</td>\n",
       "      <td>-0.405096</td>\n",
       "      <td>0.845143</td>\n",
       "      <td>-1.275096</td>\n",
       "      <td>1.545335</td>\n",
       "      <td>2.840654</td>\n",
       "      <td>-0.735455</td>\n",
       "      <td>2.296375</td>\n",
       "      <td>1.150335</td>\n",
       "    </tr>\n",
       "    <tr>\n",
       "      <th>38</th>\n",
       "      <td>1.207825</td>\n",
       "      <td>-1.437904</td>\n",
       "      <td>1.020585</td>\n",
       "      <td>1.300190</td>\n",
       "      <td>0.444162</td>\n",
       "      <td>-0.405096</td>\n",
       "      <td>0.845143</td>\n",
       "      <td>-0.103976</td>\n",
       "      <td>-0.647109</td>\n",
       "      <td>-0.139793</td>\n",
       "      <td>0.950891</td>\n",
       "      <td>-0.699471</td>\n",
       "      <td>-0.481703</td>\n",
       "    </tr>\n",
       "    <tr>\n",
       "      <th>24</th>\n",
       "      <td>-1.524102</td>\n",
       "      <td>0.695457</td>\n",
       "      <td>1.998108</td>\n",
       "      <td>0.466609</td>\n",
       "      <td>-0.959804</td>\n",
       "      <td>-0.405096</td>\n",
       "      <td>0.845143</td>\n",
       "      <td>1.247316</td>\n",
       "      <td>1.545335</td>\n",
       "      <td>0.386168</td>\n",
       "      <td>0.950891</td>\n",
       "      <td>-0.699471</td>\n",
       "      <td>1.150335</td>\n",
       "    </tr>\n",
       "    <tr>\n",
       "      <th>247</th>\n",
       "      <td>1.317102</td>\n",
       "      <td>0.695457</td>\n",
       "      <td>0.043063</td>\n",
       "      <td>1.578051</td>\n",
       "      <td>-0.017141</td>\n",
       "      <td>-0.405096</td>\n",
       "      <td>0.845143</td>\n",
       "      <td>-1.365183</td>\n",
       "      <td>1.545335</td>\n",
       "      <td>-0.841074</td>\n",
       "      <td>-0.735455</td>\n",
       "      <td>2.296375</td>\n",
       "      <td>-2.113741</td>\n",
       "    </tr>\n",
       "    <tr>\n",
       "      <th>...</th>\n",
       "      <td>...</td>\n",
       "      <td>...</td>\n",
       "      <td>...</td>\n",
       "      <td>...</td>\n",
       "      <td>...</td>\n",
       "      <td>...</td>\n",
       "      <td>...</td>\n",
       "      <td>...</td>\n",
       "      <td>...</td>\n",
       "      <td>...</td>\n",
       "      <td>...</td>\n",
       "      <td>...</td>\n",
       "      <td>...</td>\n",
       "    </tr>\n",
       "    <tr>\n",
       "      <th>259</th>\n",
       "      <td>-1.742657</td>\n",
       "      <td>0.695457</td>\n",
       "      <td>1.998108</td>\n",
       "      <td>-0.644832</td>\n",
       "      <td>-0.317991</td>\n",
       "      <td>-0.405096</td>\n",
       "      <td>0.845143</td>\n",
       "      <td>1.427489</td>\n",
       "      <td>1.545335</td>\n",
       "      <td>2.490013</td>\n",
       "      <td>-0.735455</td>\n",
       "      <td>-0.699471</td>\n",
       "      <td>1.150335</td>\n",
       "    </tr>\n",
       "    <tr>\n",
       "      <th>130</th>\n",
       "      <td>0.005777</td>\n",
       "      <td>-1.437904</td>\n",
       "      <td>1.020585</td>\n",
       "      <td>1.578051</td>\n",
       "      <td>-0.919691</td>\n",
       "      <td>-0.405096</td>\n",
       "      <td>0.845143</td>\n",
       "      <td>0.571670</td>\n",
       "      <td>-0.647109</td>\n",
       "      <td>-0.841074</td>\n",
       "      <td>0.950891</td>\n",
       "      <td>0.299145</td>\n",
       "      <td>-0.481703</td>\n",
       "    </tr>\n",
       "    <tr>\n",
       "      <th>241</th>\n",
       "      <td>0.552162</td>\n",
       "      <td>-1.437904</td>\n",
       "      <td>-0.934460</td>\n",
       "      <td>2.356060</td>\n",
       "      <td>0.043029</td>\n",
       "      <td>-0.405096</td>\n",
       "      <td>0.845143</td>\n",
       "      <td>-0.329192</td>\n",
       "      <td>1.545335</td>\n",
       "      <td>-0.841074</td>\n",
       "      <td>-0.735455</td>\n",
       "      <td>-0.699471</td>\n",
       "      <td>-0.481703</td>\n",
       "    </tr>\n",
       "    <tr>\n",
       "      <th>253</th>\n",
       "      <td>1.426379</td>\n",
       "      <td>0.695457</td>\n",
       "      <td>-0.934460</td>\n",
       "      <td>-1.756273</td>\n",
       "      <td>1.045862</td>\n",
       "      <td>-0.405096</td>\n",
       "      <td>-1.035714</td>\n",
       "      <td>-1.139967</td>\n",
       "      <td>1.545335</td>\n",
       "      <td>-0.052133</td>\n",
       "      <td>-0.735455</td>\n",
       "      <td>1.297760</td>\n",
       "      <td>-0.481703</td>\n",
       "    </tr>\n",
       "    <tr>\n",
       "      <th>155</th>\n",
       "      <td>0.442885</td>\n",
       "      <td>-1.437904</td>\n",
       "      <td>-0.934460</td>\n",
       "      <td>-0.089111</td>\n",
       "      <td>-0.999917</td>\n",
       "      <td>-0.405096</td>\n",
       "      <td>0.845143</td>\n",
       "      <td>-0.869709</td>\n",
       "      <td>-0.647109</td>\n",
       "      <td>-0.315113</td>\n",
       "      <td>-0.735455</td>\n",
       "      <td>-0.699471</td>\n",
       "      <td>-0.481703</td>\n",
       "    </tr>\n",
       "  </tbody>\n",
       "</table>\n",
       "<p>227 rows × 13 columns</p>\n",
       "</div>"
      ],
      "text/plain": [
       "          age       sex        cp  trestbps      chol       fbs   restecg  \\\n",
       "255 -0.977717  0.695457 -0.934460  0.577754  1.246429 -0.405096 -1.035714   \n",
       "250 -0.322055  0.695457 -0.934460  0.466609  1.025805 -0.405096  0.845143   \n",
       "38   1.207825 -1.437904  1.020585  1.300190  0.444162 -0.405096  0.845143   \n",
       "24  -1.524102  0.695457  1.998108  0.466609 -0.959804 -0.405096  0.845143   \n",
       "247  1.317102  0.695457  0.043063  1.578051 -0.017141 -0.405096  0.845143   \n",
       "..        ...       ...       ...       ...       ...       ...       ...   \n",
       "259 -1.742657  0.695457  1.998108 -0.644832 -0.317991 -0.405096  0.845143   \n",
       "130  0.005777 -1.437904  1.020585  1.578051 -0.919691 -0.405096  0.845143   \n",
       "241  0.552162 -1.437904 -0.934460  2.356060  0.043029 -0.405096  0.845143   \n",
       "253  1.426379  0.695457 -0.934460 -1.756273  1.045862 -0.405096 -1.035714   \n",
       "155  0.442885 -1.437904 -0.934460 -0.089111 -0.999917 -0.405096  0.845143   \n",
       "\n",
       "      thalach     exang   oldpeak     slope        ca      thal  \n",
       "255 -0.149019  1.545335 -0.841074 -0.735455  2.296375  1.150335  \n",
       "250 -1.275096  1.545335  2.840654 -0.735455  2.296375  1.150335  \n",
       "38  -0.103976 -0.647109 -0.139793  0.950891 -0.699471 -0.481703  \n",
       "24   1.247316  1.545335  0.386168  0.950891 -0.699471  1.150335  \n",
       "247 -1.365183  1.545335 -0.841074 -0.735455  2.296375 -2.113741  \n",
       "..        ...       ...       ...       ...       ...       ...  \n",
       "259  1.427489  1.545335  2.490013 -0.735455 -0.699471  1.150335  \n",
       "130  0.571670 -0.647109 -0.841074  0.950891  0.299145 -0.481703  \n",
       "241 -0.329192  1.545335 -0.841074 -0.735455 -0.699471 -0.481703  \n",
       "253 -1.139967  1.545335 -0.052133 -0.735455  1.297760 -0.481703  \n",
       "155 -0.869709 -0.647109 -0.315113 -0.735455 -0.699471 -0.481703  \n",
       "\n",
       "[227 rows x 13 columns]"
      ]
     },
     "execution_count": 103,
     "metadata": {},
     "output_type": "execute_result"
    }
   ],
   "source": [
    "xtrain"
   ]
  },
  {
   "cell_type": "code",
   "execution_count": 104,
   "id": "4374121b",
   "metadata": {},
   "outputs": [
    {
     "name": "stdout",
     "output_type": "stream",
     "text": [
      "(227, 13)\n",
      "(227,)\n",
      "(76, 13)\n",
      "(76,)\n"
     ]
    }
   ],
   "source": [
    "print(xtrain[columnas].shape);\n",
    "print(ytrain.shape);\n",
    "\n",
    "print(xtest[columnas].shape);\n",
    "print(ytest.shape);"
   ]
  },
  {
   "attachments": {},
   "cell_type": "markdown",
   "id": "0642d1b3",
   "metadata": {},
   "source": [
    "### APLICAMOS PCA"
   ]
  },
  {
   "cell_type": "code",
   "execution_count": 117,
   "id": "a044501f",
   "metadata": {},
   "outputs": [
    {
     "data": {
      "text/plain": [
       "(227, 11)"
      ]
     },
     "execution_count": 117,
     "metadata": {},
     "output_type": "execute_result"
    }
   ],
   "source": [
    "RANDOM_STATE = 17\n",
    "\n",
    "pca = PCA(n_components=0.9, random_state=RANDOM_STATE).fit(xtrain[columnas])\n",
    "X_pca = pca.transform(xtrain[columnas])\n",
    "X_pca.shape"
   ]
  },
  {
   "cell_type": "code",
   "execution_count": 106,
   "id": "edc53edc",
   "metadata": {},
   "outputs": [
    {
     "data": {
      "image/png": "[encoded data removed]",
      "text/plain": [
       "<Figure size 1000x700 with 1 Axes>"
      ]
     },
     "metadata": {},
     "output_type": "display_data"
    }
   ],
   "source": [
    "#CURVA DE VARIANZA EXPLICADA\n",
    "#Graficamos las 13 componentes\n",
    "pca_2 = PCA(n_components=13, random_state=RANDOM_STATE).fit(xtrain[columnas])\n",
    "\n",
    "plt.figure(figsize=(10,7))\n",
    "plt.plot(np.cumsum(pca_2.explained_variance_ratio_), color='k', lw=2)\n",
    "plt.xlabel('Cantidad de componentes')\n",
    "plt.ylabel('Total varianza contemplada')\n",
    "plt.xlim(0, 13)\n",
    "plt.yticks(np.arange(0, 1.1, 0.1))\n",
    "plt.axvline(11, c='b') #Marcamos la linea de las 11 componentes\n",
    "plt.axhline(0.9, c='r') #Marcamos la linea del 90% de la varianza\n",
    "plt.show();"
   ]
  },
  {
   "attachments": {},
   "cell_type": "markdown",
   "id": "ea61dae3",
   "metadata": {},
   "source": [
    "#### Segun en analisis con PCA, vemos que todas las características del dataset tienen un peso similar, ya que si las ordenamos por su varianza no hay un grupo de pocas caracteristicas que sumen el 80% o 90% de la varianza. Solo podríamos eliminar una dimension para quedarnos con el 90%. Por este motivo se decide no aplicar PCA, ya que no nos brinda ninguna mejora."
   ]
  },
  {
   "cell_type": "markdown",
   "id": "13e49832",
   "metadata": {},
   "source": [
    "# Modelos y evaluación\n",
    "Probar diferentes modelos para predecir la variable objetivo. Calcular las métricas que considere relevantes. Comentar los resultados. "
   ]
  },
  {
   "attachments": {},
   "cell_type": "markdown",
   "id": "9c3abe50",
   "metadata": {},
   "source": [
    "## LogisticRegressionCV"
   ]
  },
  {
   "cell_type": "code",
   "execution_count": 150,
   "id": "50ebd931",
   "metadata": {},
   "outputs": [
    {
     "name": "stdout",
     "output_type": "stream",
     "text": [
      "Iteraciones para LogisticRegressionCV: 742\n"
     ]
    }
   ],
   "source": [
    "logr = LogisticRegressionCV(cv=10, scoring='roc_auc', n_jobs=-1, penalty=\"l2\")\n",
    "\n",
    "logr.fit(xtrain[columnas],ytrain)\n",
    "\n",
    "# Predecir las probabilidades de la clase positiva\n",
    "logr_y_hat = (logr.predict_proba(xtest[columnas])[:, 1] > 0.5).astype(int)\n",
    "\n",
    "print(f'Iteraciones para LogisticRegressionCV: {logr.n_iter_.sum()}')"
   ]
  },
  {
   "attachments": {},
   "cell_type": "markdown",
   "id": "97657f2c",
   "metadata": {},
   "source": [
    "# SGDClassifier"
   ]
  },
  {
   "cell_type": "code",
   "execution_count": 148,
   "id": "b46c00b1",
   "metadata": {},
   "outputs": [
    {
     "name": "stdout",
     "output_type": "stream",
     "text": [
      "Iteraciones para SGDClassifier: 55\n"
     ]
    }
   ],
   "source": [
    "sgd_clf = SGDClassifier(loss='log_loss', random_state=0, penalty=\"l1\") #Prueba con log_loss que me permite predecir probabilidades\n",
    "\n",
    "sgd_clf.fit(xtrain[columnas], ytrain)\n",
    "\n",
    "# Predecir las probabilidades de la clase positiva\n",
    "sgd_y_hat = (sgd_clf.predict_proba(xtest[columnas])[:, 1] > 0.5).astype(int)\n",
    "\n",
    "\n",
    "print(f'Iteraciones para SGDClassifier: {sgd_clf.n_iter_}')\n"
   ]
  },
  {
   "cell_type": "code",
   "execution_count": 109,
   "id": "d5771adf",
   "metadata": {},
   "outputs": [],
   "source": [
    "# # COMPARAMOS AMBAS\n",
    "\n",
    "# # Graficar la curva ROC\n",
    "# fpr, tpr, thresholds = roc_curve(ytest, logr_y_hat)\n",
    "# plt.plot(fpr, tpr)\n",
    "# plt.xlabel('Tasa de falsos positivos')\n",
    "# plt.ylabel('Tasa de verdaderos positivos')\n",
    "# plt.title('Curva ROC')\n",
    "# plt.show()\n",
    "\n",
    "# # Graficar la curva ROC\n",
    "# fpr, tpr, thresholds = roc_curve(ytest, sgd_y_hat)\n",
    "# plt.plot(fpr, tpr)\n",
    "# plt.xlabel('Tasa de falsos positivos')\n",
    "# plt.ylabel('Tasa de verdaderos positivos')\n",
    "# plt.title('Curva ROC')\n",
    "# plt.show()\n",
    "\n",
    "# # Matriz de confusión\n",
    "# logr_y_hat = logr.predict(xtest[columnas])\n",
    "# cm = confusion_matrix(ytest, logr_y_hat)\n",
    "# sns.heatmap(cm, annot=True, fmt='d')\n",
    "# plt.xlabel('Predicción')\n",
    "# plt.ylabel('Verdad')\n",
    "# plt.title('Matriz de confusión')\n",
    "# plt.show()\n",
    "\n",
    "# # Matriz de confusión\n",
    "# sgd_y_hat = sgd_clf.predict(xtest[columnas])\n",
    "# cm = confusion_matrix(ytest, sgd_y_hat)\n",
    "# sns.heatmap(cm, annot=True, fmt='d')\n",
    "# plt.xlabel('Predicción')\n",
    "# plt.ylabel('Verdad')\n",
    "# plt.title('Matriz de confusión')\n",
    "# plt.show()\n",
    "\n",
    "# # Curva de precisión-recall\n",
    "# precision, recall, thresholds = precision_recall_curve(ytest, logr_y_hat)\n",
    "# plt.plot(recall, precision)\n",
    "# plt.xlabel('Recall')\n",
    "# plt.ylabel('Precisión')\n",
    "# plt.title('Curva de precisión-recall')\n",
    "# plt.show()\n",
    "\n",
    "# # Curva de precisión-recall\n",
    "# precision, recall, thresholds = precision_recall_curve(ytest, sgd_y_hat)\n",
    "# plt.plot(recall, precision)\n",
    "# plt.xlabel('Recall')\n",
    "# plt.ylabel('Precisión')\n",
    "# plt.title('Curva de precisión-recall')\n",
    "# plt.show()\n",
    "\n",
    "\n",
    "\n",
    "# # Histograma de probabilidades\n",
    "# sns.histplot(logr_y_hat[ytest == 0], color='blue', label='Clase 0', kde=True)\n",
    "# sns.histplot(logr_y_hat[ytest == 1], color='orange', label='Clase 1', kde=True)\n",
    "# plt.xlabel('Probabilidad')\n",
    "# plt.ylabel('Frecuencia')\n",
    "# plt.title('Histograma de probabilidades')\n",
    "# plt.legend()\n",
    "# plt.show()\n",
    "\n",
    "# # Histograma de probabilidades\n",
    "# sns.histplot(sgd_y_hat[ytest == 0], color='blue', label='Clase 0', kde=True)\n",
    "# sns.histplot(sgd_y_hat[ytest == 1], color='orange', label='Clase 1', kde=True)\n",
    "# plt.xlabel('Probabilidad')\n",
    "# plt.ylabel('Frecuencia')\n",
    "# plt.title('Histograma de probabilidades')\n",
    "# plt.legend()\n",
    "# plt.show()\n",
    "\n",
    "# sns.histplot(data = logr_y_hat)\n",
    "\n",
    "# sns.histplot(data = sgd_y_hat)\n",
    "\n"
   ]
  },
  {
   "attachments": {},
   "cell_type": "markdown",
   "id": "da0f1582",
   "metadata": {},
   "source": [
    "## COMPARACIÓN DE MODELOS"
   ]
  },
  {
   "attachments": {},
   "cell_type": "markdown",
   "id": "971e2e7a",
   "metadata": {},
   "source": [
    "### LogisticRegression"
   ]
  },
  {
   "cell_type": "code",
   "execution_count": 151,
   "id": "eb0f4c3b",
   "metadata": {},
   "outputs": [
    {
     "name": "stdout",
     "output_type": "stream",
     "text": [
      "              precision    recall  f1-score   support\n",
      "\n",
      "           0       1.00      0.23      0.38        39\n",
      "           1       0.55      1.00      0.71        37\n",
      "\n",
      "    accuracy                           0.61        76\n",
      "   macro avg       0.78      0.62      0.54        76\n",
      "weighted avg       0.78      0.61      0.54        76\n",
      "\n"
     ]
    }
   ],
   "source": [
    "print(classification_report(ytest, logr_y_hat))"
   ]
  },
  {
   "attachments": {},
   "cell_type": "markdown",
   "id": "d3e6ed2d",
   "metadata": {},
   "source": [
    "### SGDClasiffier"
   ]
  },
  {
   "cell_type": "code",
   "execution_count": 143,
   "id": "308d53c3",
   "metadata": {},
   "outputs": [
    {
     "name": "stdout",
     "output_type": "stream",
     "text": [
      "              precision    recall  f1-score   support\n",
      "\n",
      "           0       0.82      0.72      0.77        39\n",
      "           1       0.74      0.84      0.78        37\n",
      "\n",
      "    accuracy                           0.78        76\n",
      "   macro avg       0.78      0.78      0.78        76\n",
      "weighted avg       0.78      0.78      0.78        76\n",
      "\n"
     ]
    }
   ],
   "source": [
    "print(classification_report(ytest, sgd_y_hat))"
   ]
  },
  {
   "attachments": {},
   "cell_type": "markdown",
   "id": "5fc59837",
   "metadata": {},
   "source": [
    "### Comparativa según el classification_report\n",
    "\n",
    "<br>PRECISION (TP / (TP + FP))\n",
    "<br>Vemos que LogisticRegression tiene poca presición, solo 55%, para predecir la clase 1, mientras que el SGDClassifier tiene entre 74% y 82% para predecir ambas clases.\n",
    "\n",
    "<br>RECALL (TP / (TP + FN))\n",
    "<br>Ocurre algo similar que en PRESICION, LogisticRegression tiene un porcentaje muy bajo, solo 23%, para la clase 1, mientras que el SGDClassifier tiene un entre 72% y 84% para ambas clases.\n",
    "\n",
    "<br>F1-SCORE (Medida de equilibrio entre PRESICION y RECALL =  2 * (precision * recall) / (precision + recall)\n",
    "<br>En esta metrica vemos que SGDClassifier tiene un 77-78% en ambas clases y tambien supera a LogisticRegression con un 38% y 71% para la clase 0 y 1 respectivamente.\n",
    "\n",
    "<br>ACCURACY ((TP + TN) / (TP + TN + FP + FN))\n",
    "<br>El modelo SGDClassifier tiene una exactitud del 78%, mientras que el modelo de LogisticRegression tiene una exactitud del 61%\n",
    "\n",
    "\n"
   ]
  },
  {
   "attachments": {},
   "cell_type": "markdown",
   "id": "08ed920f",
   "metadata": {},
   "source": [
    "### Como conclusión, vemos que el modelo SGDClassifier tiene mejor rendimiento que el modelo LogisticRegression, ya que tiene mejores resultados en todas las metricas del classification_report y tuvo una menor cantidad de iteraciones para entrenar al modelo.\n"
   ]
  },
  {
   "attachments": {},
   "cell_type": "markdown",
   "id": "2491c37b",
   "metadata": {},
   "source": [
    "### Tambien se pudo observar que utilizando una penalidad L1 (Lasso) en el SGDClassifier, se mejoró aún más el rendimiento del modelo. Lasso realiza una selección de los atributos de entrada, anulando algunos de éstos, para obtener un modelo que generalice mejor. Esto nos indica que las características del dataset no estan muy correlacionadas entre si."
   ]
  }
 ],
 "metadata": {
  "kernelspec": {
   "display_name": "Python 3.10.7 ('.venv': venv)",
   "language": "python",
   "name": "python3"
  },
  "language_info": {
   "codemirror_mode": {
    "name": "ipython",
    "version": 3
   },
   "file_extension": ".py",
   "mimetype": "text/x-python",
   "name": "python",
   "nbconvert_exporter": "python",
   "pygments_lexer": "ipython3",
   "version": "3.10.10"
  },
  "vscode": {
   "interpreter": {
    "hash": "23cb2388443d556543181094e3ae896af451ee7d366981f58b81df73afb487db"
   }
  }
 },
 "nbformat": 4,
 "nbformat_minor": 5
}
